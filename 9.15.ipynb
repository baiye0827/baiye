{
 "cells": [
  {
   "cell_type": "markdown",
   "metadata": {},
   "source": [
    "# 函数\n",
    "\n",
    "- 函数可以用来定义可重复代码，组织和简化\n",
    "- 一般来说一个函数在实际开发中为一个小功能\n",
    "- 一个类为一个大功能\n",
    "- 同样函数的长度不要超过一屏"
   ]
  },
  {
   "cell_type": "code",
   "execution_count": 3,
   "metadata": {},
   "outputs": [],
   "source": [
    "def fun_name():\n",
    "    print('你真是一个小天才')"
   ]
  },
  {
   "cell_type": "code",
   "execution_count": 4,
   "metadata": {},
   "outputs": [
    {
     "name": "stdout",
     "output_type": "stream",
     "text": [
      "你真是一个小天才\n"
     ]
    }
   ],
   "source": [
    "fun_name()   #代表函数调用"
   ]
  },
  {
   "cell_type": "code",
   "execution_count": 5,
   "metadata": {},
   "outputs": [],
   "source": [
    "def panduan():\n",
    "    '''\n",
    "    English for something\n",
    "    Argument:\n",
    "    ————————————\n",
    "            num: input number\n",
    "    '''\n",
    "    num = eval(input('>>'))\n",
    "    if num % 2 == 0:\n",
    "        print(str(num) + \"是偶数\")\n",
    "    else:\n",
    "        print(str(num) + \"是奇数\")\n"
   ]
  },
  {
   "cell_type": "code",
   "execution_count": 6,
   "metadata": {},
   "outputs": [
    {
     "name": "stdout",
     "output_type": "stream",
     "text": [
      ">>2\n",
      "2是偶数\n"
     ]
    }
   ],
   "source": [
    "panduan ()"
   ]
  },
  {
   "cell_type": "code",
   "execution_count": null,
   "metadata": {},
   "outputs": [],
   "source": [
    "for i in range(2,51):\n",
    "    for j in range(2,i): \n",
    "        if i % j == 0:\n",
    "            break\n",
    "    else:\n",
    "        print(str(i)+'是一个素数')"
   ]
  },
  {
   "cell_type": "code",
   "execution_count": 19,
   "metadata": {},
   "outputs": [
    {
     "ename": "SyntaxError",
     "evalue": "invalid character in identifier (<ipython-input-19-5e68c43b243e>, line 7)",
     "output_type": "error",
     "traceback": [
      "\u001b[1;36m  File \u001b[1;32m\"<ipython-input-19-5e68c43b243e>\"\u001b[1;36m, line \u001b[1;32m7\u001b[0m\n\u001b[1;33m    if num1 == i+1:      #i+1是因为上一步中range（2,n）的范围是不包括n,range（2,n）=[2:n)\u001b[0m\n\u001b[1;37m    ^\u001b[0m\n\u001b[1;31mSyntaxError\u001b[0m\u001b[1;31m:\u001b[0m invalid character in identifier\n"
     ]
    }
   ],
   "source": [
    "def sushu():\n",
    "    num1 = eval(input(\">>\"))\n",
    "    for i in range(2,i):\n",
    "        if num1 % i == 0:\n",
    "            print(str(num1)+'不是一个素数')\n",
    "            break\n",
    "　   if num1 == i+1:      #i+1是因为上一步中range（2,n）的范围是不包括n,range（2,n）=[2:n)\n",
    "　　　　print(str(num1) +\"is 素数\")"
   ]
  },
  {
   "cell_type": "code",
   "execution_count": 21,
   "metadata": {},
   "outputs": [],
   "source": [
    "import math    \n",
    "   \n",
    "def isPrime(n):    \n",
    "    if n <= 1:    \n",
    "        return False   \n",
    "        for i in range(2, int(math.sqrt(n)) + 1):    \n",
    "             if n % i == 0:    \n",
    "                return False   \n",
    "        return True "
   ]
  },
  {
   "cell_type": "code",
   "execution_count": 24,
   "metadata": {},
   "outputs": [],
   "source": [
    "isPrime(2)"
   ]
  },
  {
   "cell_type": "markdown",
   "metadata": {},
   "source": [
    "## 定义一个函数\n",
    "\n",
    "def function_name(list of parameters):\n",
    "    \n",
    "    do something\n",
    "![](../Photo/69.png)\n",
    "- 以前使用的random 或者range 或者print.. 其实都是函数或者类"
   ]
  },
  {
   "cell_type": "markdown",
   "metadata": {},
   "source": [
    "## 调用一个函数\n",
    "- functionName()\n",
    "- \"()\" 就代表调用"
   ]
  },
  {
   "cell_type": "markdown",
   "metadata": {},
   "source": [
    "![](../Photo/70.png)"
   ]
  },
  {
   "cell_type": "markdown",
   "metadata": {},
   "source": [
    "## 带返回值和不带返回值的函数\n",
    "- return 返回的内容\n",
    "- return 返回多个值\n",
    "- 一般情况下，在多个函数协同完成一个功能的时候，那么将会有返回值"
   ]
  },
  {
   "cell_type": "markdown",
   "metadata": {},
   "source": [
    "![](../Photo/71.png)\n",
    "\n",
    "- 当然也可以自定义返回None"
   ]
  },
  {
   "cell_type": "markdown",
   "metadata": {},
   "source": [
    "## EP：\n",
    "![](../Photo/72.png)"
   ]
  },
  {
   "cell_type": "markdown",
   "metadata": {},
   "source": [
    "## 类型和关键字参数\n",
    "- 普通参数\n",
    "- 多个参数\n",
    "- 默认值参数\n",
    "- 不定长参数"
   ]
  },
  {
   "cell_type": "code",
   "execution_count": 16,
   "metadata": {},
   "outputs": [],
   "source": [
    "import os\n",
    "def kuajiang(name):\n",
    "    os.system('say {}你真是一个大天才'.format(name))"
   ]
  },
  {
   "cell_type": "code",
   "execution_count": null,
   "metadata": {},
   "outputs": [],
   "source": [
    "kuajiang('星期二') #位置参数  不带参数名的传递方式"
   ]
  },
  {
   "cell_type": "code",
   "execution_count": null,
   "metadata": {},
   "outputs": [],
   "source": [
    "kuajiang(name = '于洁') #带参数名传递方式"
   ]
  },
  {
   "cell_type": "code",
   "execution_count": 25,
   "metadata": {},
   "outputs": [],
   "source": [
    "def y(x):\n",
    "    return x ** 2"
   ]
  },
  {
   "cell_type": "code",
   "execution_count": 27,
   "metadata": {},
   "outputs": [
    {
     "name": "stdout",
     "output_type": "stream",
     "text": [
      "10000\n"
     ]
    }
   ],
   "source": [
    "y_ = y(100)\n",
    "print(y_)"
   ]
  },
  {
   "cell_type": "code",
   "execution_count": 42,
   "metadata": {},
   "outputs": [],
   "source": [
    "def shuru():\n",
    "    num = eval(input(\">>\"))\n",
    "    res3 = san(num)\n",
    "    res2 = liang(num)\n",
    "    print(res3-res2)\n",
    "def san(num):\n",
    "    return num**3\n",
    "def liang(num):\n",
    "    return num**2\n",
    "    \n",
    "        "
   ]
  },
  {
   "cell_type": "code",
   "execution_count": 43,
   "metadata": {},
   "outputs": [
    {
     "name": "stdout",
     "output_type": "stream",
     "text": [
      ">>10\n",
      "900\n"
     ]
    }
   ],
   "source": [
    "shuru()"
   ]
  },
  {
   "cell_type": "markdown",
   "metadata": {},
   "source": [
    "## 普通参数"
   ]
  },
  {
   "cell_type": "markdown",
   "metadata": {},
   "source": [
    "## 多个参数"
   ]
  },
  {
   "cell_type": "code",
   "execution_count": 44,
   "metadata": {},
   "outputs": [],
   "source": [
    "import os \n",
    "#如果参数含有默认值，则统一放入最后面，不能交叉放入！！！！\n",
    "def kuajiang(name1,name2='古天乐',name3 = '张家辉'):  #函数的多参\n",
    "    os.system('say {}{}{}你们都是小帅哥'.format(name1,name2,name3))"
   ]
  },
  {
   "cell_type": "code",
   "execution_count": 47,
   "metadata": {},
   "outputs": [],
   "source": [
    "kuajiang(name1='张学友')"
   ]
  },
  {
   "cell_type": "code",
   "execution_count": 60,
   "metadata": {},
   "outputs": [],
   "source": [
    "account ='666624@qq.com'\n",
    "password = 'haha123'\n",
    "is_ok_and_y = False"
   ]
  },
  {
   "cell_type": "code",
   "execution_count": 61,
   "metadata": {},
   "outputs": [],
   "source": [
    "def login(account_login,password_login):\n",
    "    if account_login == account and password_login == password:\n",
    "        print('登录成功')\n",
    "    else:\n",
    "        print('用户名或者密码错误')"
   ]
  },
  {
   "cell_type": "code",
   "execution_count": 62,
   "metadata": {},
   "outputs": [],
   "source": [
    "def qidong():\n",
    "    global is_ok_and_y\n",
    "    if is_ok_and_y == False:\n",
    "        print('是否七天内免登陆?y/n')\n",
    "        res = input('>>')\n",
    "        account_login = input('请输入账号')\n",
    "        password_login = input('请输入密码')\n",
    "        if res == 'y':\n",
    "            login(account_login,password_login)\n",
    "            is_ok_and_y = True\n",
    "        else:\n",
    "            login(account_login,password_login)\n",
    "    else:\n",
    "        print('登录成功')"
   ]
  },
  {
   "cell_type": "code",
   "execution_count": null,
   "metadata": {},
   "outputs": [
    {
     "name": "stdout",
     "output_type": "stream",
     "text": [
      "是否七天内免登陆?y/n\n"
     ]
    }
   ],
   "source": [
    "qidong()"
   ]
  },
  {
   "cell_type": "markdown",
   "metadata": {},
   "source": [
    "## 默认值参数"
   ]
  },
  {
   "cell_type": "markdown",
   "metadata": {},
   "source": [
    "## 强制命名"
   ]
  },
  {
   "cell_type": "code",
   "execution_count": null,
   "metadata": {},
   "outputs": [],
   "source": [
    "import os \n",
    "#如果参数含有默认值，则统一放入最后面，不能交叉放入！！！！\n",
    "#  *,后所有都为强制命名\n",
    "def kuajiang(*,name1,name2='古天乐',name3 = '张家辉'):  #函数的多参\n",
    "    os.system('say {}{}{}你们都是小帅哥'.format(name1,name2,name3))"
   ]
  },
  {
   "cell_type": "code",
   "execution_count": null,
   "metadata": {},
   "outputs": [],
   "source": [
    "kuajiang(name1='张学友')"
   ]
  },
  {
   "cell_type": "markdown",
   "metadata": {},
   "source": [
    "## 不定长参数\n",
    "- \\*args\n",
    "> - 不定长，来多少装多少，不装也是可以的\n",
    "  - 返回的数据类型是元组\n",
    "  - args 名字是可以修改的，只是我们约定俗成的是args\n",
    "- \\**kwargs \n",
    "> - 返回的字典\n",
    "  - 输入的一定要是表达式（键值对）\n",
    "- name,\\*args,name2,\\**kwargs  使用参数名"
   ]
  },
  {
   "cell_type": "code",
   "execution_count": 1,
   "metadata": {},
   "outputs": [],
   "source": [
    "def test(*args):\n",
    "    print(args)"
   ]
  },
  {
   "cell_type": "code",
   "execution_count": 2,
   "metadata": {},
   "outputs": [
    {
     "name": "stdout",
     "output_type": "stream",
     "text": [
      "(1, 2, 3, 4, 5, 6, 10)\n"
     ]
    }
   ],
   "source": [
    "test(1,2,3,4,5,6,10)"
   ]
  },
  {
   "cell_type": "code",
   "execution_count": 3,
   "metadata": {},
   "outputs": [],
   "source": [
    "def text(**kwargs):\n",
    "    print(kwargs)"
   ]
  },
  {
   "cell_type": "code",
   "execution_count": 4,
   "metadata": {},
   "outputs": [
    {
     "name": "stdout",
     "output_type": "stream",
     "text": [
      "{'a': 1, 'b': 2, 'c': 3}\n"
     ]
    }
   ],
   "source": [
    "text(a=1,b=2,c=3)"
   ]
  },
  {
   "cell_type": "markdown",
   "metadata": {},
   "source": [
    "## 变量的作用域\n",
    "- 局部变量 local\n",
    "- 全局变量 global\n",
    "- globals 函数返回一个全局变量的字典，包括所有导入的变量\n",
    "- locals() 函数会以字典类型返回当前位置的全部局部变量。"
   ]
  },
  {
   "cell_type": "markdown",
   "metadata": {},
   "source": [
    "## 注意：\n",
    "- global ：在进行赋值操作的时候需要声明\n",
    "- 官方解释：This is because when you make an assignment to a variable in a scope, that variable becomes local to that scope and shadows any similarly named variable in the outer scope.\n",
    "- ![](../Photo/73.png)"
   ]
  },
  {
   "cell_type": "markdown",
   "metadata": {},
   "source": [
    "# Homework\n",
    "- 1\n",
    "![](../Photo/74.png)"
   ]
  },
  {
   "cell_type": "code",
   "execution_count": 22,
   "metadata": {},
   "outputs": [],
   "source": [
    "count = 0\n",
    "def wujiao():\n",
    "    global count\n",
    "    for n in range(1,101):\n",
    "        s = n*(3*n - 1)/2\n",
    "        print(str(s),end = '\\t')\n",
    "        count = count+1\n",
    "        if count % 10 == 0:\n",
    "            print()"
   ]
  },
  {
   "cell_type": "code",
   "execution_count": 23,
   "metadata": {},
   "outputs": [
    {
     "name": "stdout",
     "output_type": "stream",
     "text": [
      "1.0\t5.0\t12.0\t22.0\t35.0\t51.0\t70.0\t92.0\t117.0\t145.0\t\n",
      "176.0\t210.0\t247.0\t287.0\t330.0\t376.0\t425.0\t477.0\t532.0\t590.0\t\n",
      "651.0\t715.0\t782.0\t852.0\t925.0\t1001.0\t1080.0\t1162.0\t1247.0\t1335.0\t\n",
      "1426.0\t1520.0\t1617.0\t1717.0\t1820.0\t1926.0\t2035.0\t2147.0\t2262.0\t2380.0\t\n",
      "2501.0\t2625.0\t2752.0\t2882.0\t3015.0\t3151.0\t3290.0\t3432.0\t3577.0\t3725.0\t\n",
      "3876.0\t4030.0\t4187.0\t4347.0\t4510.0\t4676.0\t4845.0\t5017.0\t5192.0\t5370.0\t\n",
      "5551.0\t5735.0\t5922.0\t6112.0\t6305.0\t6501.0\t6700.0\t6902.0\t7107.0\t7315.0\t\n",
      "7526.0\t7740.0\t7957.0\t8177.0\t8400.0\t8626.0\t8855.0\t9087.0\t9322.0\t9560.0\t\n",
      "9801.0\t10045.0\t10292.0\t10542.0\t10795.0\t11051.0\t11310.0\t11572.0\t11837.0\t12105.0\t\n",
      "12376.0\t12650.0\t12927.0\t13207.0\t13490.0\t13776.0\t14065.0\t14357.0\t14652.0\t14950.0\t\n"
     ]
    }
   ],
   "source": [
    "wujiao()"
   ]
  },
  {
   "cell_type": "markdown",
   "metadata": {},
   "source": [
    "- 2 \n",
    "![](../Photo/75.png)"
   ]
  },
  {
   "cell_type": "code",
   "execution_count": 24,
   "metadata": {},
   "outputs": [],
   "source": [
    "def sumDigits():\n",
    "    num = eval(input(\">>\"))\n",
    "    sum_ = 0\n",
    "    while True:\n",
    "        num1 = num % 10\n",
    "        sum_ = sum_ + num1\n",
    "        num = num // 10\n",
    "        if num == 0:\n",
    "            print(sum_)\n",
    "            break"
   ]
  },
  {
   "cell_type": "code",
   "execution_count": 26,
   "metadata": {},
   "outputs": [
    {
     "name": "stdout",
     "output_type": "stream",
     "text": [
      ">>123\n",
      "6\n"
     ]
    }
   ],
   "source": [
    "sumDigits()"
   ]
  },
  {
   "cell_type": "markdown",
   "metadata": {},
   "source": [
    "- 3\n",
    "![](../Photo/76.png)"
   ]
  },
  {
   "cell_type": "code",
   "execution_count": 37,
   "metadata": {},
   "outputs": [],
   "source": [
    "def displaySortedNumbers(num1,num2,num3):\n",
    "    b = sorted([num1,num2,num3])\n",
    "    print(b)\n",
    "    a = [num1,num2,num3]\n",
    "    a.sort()\n",
    "    print(a)"
   ]
  },
  {
   "cell_type": "code",
   "execution_count": 38,
   "metadata": {},
   "outputs": [
    {
     "name": "stdout",
     "output_type": "stream",
     "text": [
      "[2.4, 3, 5]\n",
      "[2.4, 3, 5]\n"
     ]
    }
   ],
   "source": [
    "displaySortedNumbers(3,2.4,5)"
   ]
  },
  {
   "cell_type": "markdown",
   "metadata": {},
   "source": [
    "- 4\n",
    "![](../Photo/77.png)"
   ]
  },
  {
   "cell_type": "code",
   "execution_count": 69,
   "metadata": {},
   "outputs": [],
   "source": [
    "# 未来投资额 = 投资额 * （1 + 月投资率）**月数\n",
    "def futureInvestmentValue(investmentAmount,yearsInterestRate):\n",
    "    print('year'+'        '+'future value')\n",
    "    for year in range(1,31):\n",
    "        futureValue = investmentAmount * (1 + (yearsInterestRate/100)/12)**(year*12)\n",
    "        print(str(year)+'             '+str(futureValue))"
   ]
  },
  {
   "cell_type": "code",
   "execution_count": 70,
   "metadata": {},
   "outputs": [
    {
     "name": "stdout",
     "output_type": "stream",
     "text": [
      "year        future value\n",
      "1             1093.8068976709837\n",
      "2             1196.4135293926222\n",
      "3             1308.6453709165366\n",
      "4             1431.4053333137108\n",
      "5             1565.6810269415707\n",
      "6             1712.5527068212796\n",
      "7             1873.2019633462298\n",
      "8             2048.921228238936\n",
      "9             2241.124172232252\n",
      "10             2451.3570781248113\n",
      "11             2681.3112807075076\n",
      "12             2932.8367736408914\n",
      "13             3207.957092751521\n",
      "14             3508.8855954841697\n",
      "15             3838.0432674789427\n",
      "16             4198.078199528149\n",
      "17             4591.886891606074\n",
      "18             5022.637555363697\n",
      "19             5493.79560255814\n",
      "20             6009.151524472612\n",
      "21             6572.851386618251\n",
      "22             7189.430184049334\n",
      "23             7863.848325637133\n",
      "24             8601.531540820313\n",
      "25             9408.414529883785\n",
      "26             10290.98870893479\n",
      "27             11256.354433687085\n",
      "28             12312.278122196296\n",
      "29             13467.254736101859\n",
      "30             14730.576123040439\n"
     ]
    }
   ],
   "source": [
    "futureInvestmentValue(1000,9)"
   ]
  },
  {
   "cell_type": "markdown",
   "metadata": {},
   "source": [
    "- 5\n",
    "![](../Photo/78.png)"
   ]
  },
  {
   "cell_type": "code",
   "execution_count": 82,
   "metadata": {},
   "outputs": [],
   "source": [
    "#def main():\n",
    "#    printChars('1', 'Z', 10)\n",
    "\n",
    "def printChars(ch1, ch2, numberPerLine):\n",
    "    count = 1\n",
    "      \n",
    "    for i in range(ord(ch1), ord(ch2) + 1):\n",
    "        if count % numberPerLine == 0:\n",
    "            print(chr(i))        \n",
    "        else:\n",
    "            print(chr(i), end = \"\")\n",
    "            \n",
    "        count += 1\n"
   ]
  },
  {
   "cell_type": "code",
   "execution_count": 86,
   "metadata": {},
   "outputs": [
    {
     "name": "stdout",
     "output_type": "stream",
     "text": [
      "123456789:\n",
      ";<=>?@ABCD\n",
      "EFGHIJKLMN\n",
      "OPQRSTUVWX\n",
      "YZ"
     ]
    }
   ],
   "source": [
    "printChars('1','Z',10)"
   ]
  },
  {
   "cell_type": "markdown",
   "metadata": {},
   "source": [
    "- 6\n",
    "![](../Photo/79.png)"
   ]
  },
  {
   "cell_type": "code",
   "execution_count": 95,
   "metadata": {},
   "outputs": [],
   "source": [
    "def numberOfDaysInAYear(): \n",
    "    for year in range(2010,2021):\n",
    "        if ((year%4 == 0) and (year%100 != 0)) or (year % 400 == 0):\n",
    "            print(str(year)+\"有366天\")\n",
    "        else:\n",
    "            print(str(year)+\"有365天\")"
   ]
  },
  {
   "cell_type": "code",
   "execution_count": 96,
   "metadata": {},
   "outputs": [
    {
     "name": "stdout",
     "output_type": "stream",
     "text": [
      "2010有365天\n",
      "2011有365天\n",
      "2012有366天\n",
      "2013有365天\n",
      "2014有365天\n",
      "2015有365天\n",
      "2016有366天\n",
      "2017有365天\n",
      "2018有365天\n",
      "2019有365天\n",
      "2020有366天\n"
     ]
    }
   ],
   "source": [
    "numberOfDaysInAYear()"
   ]
  },
  {
   "cell_type": "markdown",
   "metadata": {},
   "source": [
    "- 7\n",
    "![](../Photo/80.png)"
   ]
  },
  {
   "cell_type": "code",
   "execution_count": 87,
   "metadata": {},
   "outputs": [],
   "source": [
    "def distance(x1,y1,x2,y2):\n",
    "    distance = ((x1 - x2) * (x1-x2) + (y1 -  y2) * (y1 - y2)) ** 0.5\n",
    "    print(\"The distance between the two points is\",distance)"
   ]
  },
  {
   "cell_type": "code",
   "execution_count": 88,
   "metadata": {},
   "outputs": [
    {
     "name": "stdout",
     "output_type": "stream",
     "text": [
      "The distance between the two points is 8.764131445842194\n"
     ]
    }
   ],
   "source": [
    "distance(1.5,-3.4,4,5)"
   ]
  },
  {
   "cell_type": "markdown",
   "metadata": {},
   "source": [
    "- 8\n",
    "![](../Photo/81.png)"
   ]
  },
  {
   "cell_type": "code",
   "execution_count": null,
   "metadata": {},
   "outputs": [],
   "source": []
  },
  {
   "cell_type": "code",
   "execution_count": null,
   "metadata": {},
   "outputs": [],
   "source": [
    "\n",
    "           \n",
    "\n",
    "                   \n",
    "                    \n",
    "        "
   ]
  },
  {
   "cell_type": "markdown",
   "metadata": {},
   "source": [
    "- 9\n",
    "![](../Photo/82.png)\n",
    "![](../Photo/83.png)"
   ]
  },
  {
   "cell_type": "code",
   "execution_count": 75,
   "metadata": {},
   "outputs": [
    {
     "data": {
      "text/plain": [
       "1536915786.5513709"
      ]
     },
     "execution_count": 75,
     "metadata": {},
     "output_type": "execute_result"
    }
   ],
   "source": [
    "import time\n",
    "time.time()"
   ]
  },
  {
   "cell_type": "markdown",
   "metadata": {},
   "source": [
    "- 10\n",
    "![](../Photo/84.png)"
   ]
  },
  {
   "cell_type": "code",
   "execution_count": null,
   "metadata": {},
   "outputs": [],
   "source": []
  },
  {
   "cell_type": "markdown",
   "metadata": {},
   "source": [
    "- 11 \n",
    "### 去网上寻找如何用Python代码发送邮件"
   ]
  }
 ],
 "metadata": {
  "kernelspec": {
   "display_name": "Python 3",
   "language": "python",
   "name": "python3"
  },
  "language_info": {
   "codemirror_mode": {
    "name": "ipython",
    "version": 3
   },
   "file_extension": ".py",
   "mimetype": "text/x-python",
   "name": "python",
   "nbconvert_exporter": "python",
   "pygments_lexer": "ipython3",
   "version": "3.6.5"
  }
 },
 "nbformat": 4,
 "nbformat_minor": 2
}
