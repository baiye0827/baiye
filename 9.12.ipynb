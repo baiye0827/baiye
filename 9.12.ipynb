{
 "cells": [
  {
   "cell_type": "markdown",
   "metadata": {},
   "source": [
    "# 选择\n",
    "## 布尔类型、数值和表达式\n",
    "![](../Photo/33.png)\n",
    "- 注意：比较运算符的相等是两个等到，一个等到代表赋值\n",
    "- 在Python中可以用整型0来代表False，其他数字来代表True\n",
    "- 后面还会讲到 is 在判断语句中的用发"
   ]
  },
  {
   "cell_type": "code",
   "execution_count": 3,
   "metadata": {},
   "outputs": [
    {
     "name": "stdout",
     "output_type": "stream",
     "text": [
      ">>85\n",
      "B\n"
     ]
    }
   ],
   "source": [
    "num = eval(input(\">>\"))\n",
    "if num>90:\n",
    "    print('A')\n",
    "elif 80 < num < 90:\n",
    "    print('B')"
   ]
  },
  {
   "cell_type": "markdown",
   "metadata": {},
   "source": [
    "## 字符串的比较使用ASCII值"
   ]
  },
  {
   "cell_type": "markdown",
   "metadata": {},
   "source": [
    "## Markdown \n",
    "- https://github.com/younghz/Markdown"
   ]
  },
  {
   "cell_type": "markdown",
   "metadata": {},
   "source": [
    "## EP:\n",
    "- <img src=\"../Photo/34.png\"></img>\n",
    "- 输入一个数字，判断其实奇数还是偶数"
   ]
  },
  {
   "cell_type": "code",
   "execution_count": 7,
   "metadata": {},
   "outputs": [
    {
     "name": "stdout",
     "output_type": "stream",
     "text": [
      "1 0 True False\n"
     ]
    }
   ],
   "source": [
    "i = int(True)\n",
    "j = int(False)\n",
    "b1 = bool(4)\n",
    "b2 = bool(0)\n",
    "print(i,j,b1,b2)"
   ]
  },
  {
   "cell_type": "markdown",
   "metadata": {},
   "source": [
    "## 产生随机数字\n",
    "- 函数random.randint(a,b) 可以用来产生一个a和b之间且包括a和b的随机整数"
   ]
  },
  {
   "cell_type": "code",
   "execution_count": 1,
   "metadata": {},
   "outputs": [
    {
     "name": "stdout",
     "output_type": "stream",
     "text": [
      "请输入一个1~100之内的数1\n",
      "你输入的输太小了\n",
      "请输入一个1~100之内的数2\n",
      "你太棒了\n"
     ]
    }
   ],
   "source": [
    "import random\n",
    "\n",
    "ran = random.randint(1,3)\n",
    "while True:\n",
    "    num = eval(input(\"请输入一个1~100之内的数\"))\n",
    "    if num == ran:\n",
    "        print(\"你太棒了\")\n",
    "        break\n",
    "    elif num<ran:\n",
    "        print(\"你输入的输太小了\")\n",
    "    else:\n",
    "        print(\"你输入的数太大了\")"
   ]
  },
  {
   "cell_type": "markdown",
   "metadata": {},
   "source": [
    "##  其他random方法\n",
    "- random.random 返回0.0到1.0之间前闭后开区间的随机浮点\n",
    "- random.randrange(a,b) 前闭后开"
   ]
  },
  {
   "cell_type": "code",
   "execution_count": 47,
   "metadata": {},
   "outputs": [
    {
     "data": {
      "text/plain": [
       "0.282529137384987"
      ]
     },
     "execution_count": 47,
     "metadata": {},
     "output_type": "execute_result"
    }
   ],
   "source": [
    "random.random()"
   ]
  },
  {
   "cell_type": "code",
   "execution_count": 49,
   "metadata": {},
   "outputs": [
    {
     "data": {
      "text/plain": [
       "6"
      ]
     },
     "execution_count": 49,
     "metadata": {},
     "output_type": "execute_result"
    }
   ],
   "source": [
    "random.randrange(0,10,2)"
   ]
  },
  {
   "cell_type": "markdown",
   "metadata": {},
   "source": [
    "## EP：\n",
    "- 产生两个随机整数number1和number2，然后显示给用户，使用户输入数字的和，并判定其是否正确\n",
    "- 进阶:写一个随机序号点名程序"
   ]
  },
  {
   "cell_type": "code",
   "execution_count": 2,
   "metadata": {},
   "outputs": [
    {
     "name": "stdout",
     "output_type": "stream",
     "text": [
      "359 782\n",
      "请输入数字的和6565\n",
      "你回答错了，正确答案是：1141\n"
     ]
    }
   ],
   "source": [
    "number1 = random.randint(1,500)\n",
    "number2 = random.randint(1,1000)\n",
    "print(number1,number2)\n",
    "num = eval(input(\"请输入数字的和\"))\n",
    "sum = number1 + number2\n",
    "if num == sum:\n",
    "    print(\"恭喜你\")\n",
    "else:\n",
    "    print(\"你回答错了，正确答案是：\" + str(sum))"
   ]
  },
  {
   "cell_type": "markdown",
   "metadata": {},
   "source": [
    "## if语句\n",
    "- 如果条件正确就执行一个单向if语句，亦即当条件为真的时候才执行if内部的语句\n",
    "- Python有很多选择语句:\n",
    "> - 单向if \n",
    "  - 双向if-else\n",
    "  - 嵌套if\n",
    "  - 多向if-elif-else\n",
    "  \n",
    "- 注意：当语句含有子语句的时候，那么一定至少要有一个缩进，也就是说如果有儿子存在，那么一定要缩进\n",
    "- 切记不可tab键和space混用，单用tab 或者 space\n",
    "- 当你输出的结果是无论if是否为真时都需要显示时，语句应该与if对齐"
   ]
  },
  {
   "cell_type": "code",
   "execution_count": 13,
   "metadata": {},
   "outputs": [
    {
     "name": "stdout",
     "output_type": "stream",
     "text": [
      ">>28\n",
      "长相怎么样？\n",
      ">>中等\n",
      "收入怎么样\n",
      ">>低\n",
      "不见\n"
     ]
    }
   ],
   "source": [
    "age = eval(input(\">>\"))\n",
    "\n",
    "if age<=30:\n",
    "    print(\"长相怎么样？\")\n",
    "    looks = input(\">>\")\n",
    "    if looks == \"帅\" or \"中等\":\n",
    "        print(\"收入怎么样\")\n",
    "        income = input(\">>\")\n",
    "        if income == \"高\":\n",
    "            print(\"见\")\n",
    "        elif income == \"中等\":\n",
    "            print(\"什么职业\")\n",
    "            job = input(\">>\")\n",
    "            if job == \"公务员\":\n",
    "                print(\"见\")\n",
    "            else:\n",
    "                print(\"不见\")\n",
    "        else:\n",
    "            print(\"不见\")\n",
    "    else:\n",
    "        print(\"不见\")\n",
    "else:\n",
    "    print(\"不见\")"
   ]
  },
  {
   "cell_type": "markdown",
   "metadata": {},
   "source": [
    "## EP：\n",
    "- 用户输入一个数字，判断其实奇数还是偶数\n",
    "- 进阶：可以查看下4.5实例研究猜生日"
   ]
  },
  {
   "cell_type": "markdown",
   "metadata": {},
   "source": [
    "## 双向if-else 语句\n",
    "- 如果条件为真，那么走if内部语句，否则走else内部语句"
   ]
  },
  {
   "cell_type": "markdown",
   "metadata": {},
   "source": [
    "## EP：\n",
    "- 产生两个随机整数number1和number2，然后显示给用户，使用户输入数字，并判定其是否正确,如果正确打印“you‘re correct”，否则打印正确错误"
   ]
  },
  {
   "cell_type": "markdown",
   "metadata": {},
   "source": [
    "## 嵌套if 和多向if-elif-else\n",
    "![](../Photo/35.png)"
   ]
  },
  {
   "cell_type": "markdown",
   "metadata": {},
   "source": [
    "## EP：\n",
    "- 提示用户输入一个年份，然后显示表示这一年的动物\n",
    "![](../Photo/36.png)\n",
    "- 计算身体质量指数的程序\n",
    "- BMI = 以千克为单位的体重除以以米为单位的身高\n",
    "![](../Photo/37.png)"
   ]
  },
  {
   "cell_type": "code",
   "execution_count": 14,
   "metadata": {},
   "outputs": [
    {
     "name": "stdout",
     "output_type": "stream",
     "text": [
      "输入一个年份2018\n",
      "狗\n"
     ]
    }
   ],
   "source": [
    "year = eval(input(\"输入一个年份\"))\n",
    "if year % 12 ==0:\n",
    "    print(\"猴\")\n",
    "elif year % 12 ==1:\n",
    "    print(\"鸡\")\n",
    "elif year % 12 ==2:\n",
    "    print(\"狗\")\n",
    "elif year % 12 ==3:\n",
    "    print(\"猪\")\n",
    "elif year % 12 ==4:\n",
    "    print(\"鼠\")\n",
    "elif year % 12 ==5:\n",
    "    print(\"牛\")\n",
    "elif year % 12 ==6:\n",
    "    print(\"虎\")\n",
    "elif year % 12 ==7:\n",
    "    print(\"兔\")\n",
    "elif year % 12 ==8:\n",
    "    print(\"龙\")\n",
    "elif year % 12 ==9:\n",
    "    print(\"蛇\")\n",
    "elif year % 12 ==10:\n",
    "    print(\"马\")\n",
    "elif year % 12 ==11:\n",
    "    print(\"羊\")\n"
   ]
  },
  {
   "cell_type": "markdown",
   "metadata": {},
   "source": [
    "## 逻辑运算符\n",
    "![](../Photo/38.png)"
   ]
  },
  {
   "cell_type": "markdown",
   "metadata": {},
   "source": [
    "![](../Photo/39.png)\n",
    "![](../Photo/40.png)"
   ]
  },
  {
   "cell_type": "markdown",
   "metadata": {},
   "source": [
    "## EP：\n",
    "- 判定闰年：一个年份如果能被4整除但不能被100整除，或者能被400整除，那么这个年份就是闰年\n",
    "- 提示用户输入一个年份，并返回是否是闰年\n",
    "- 提示用户输入一个数字，判断其是否为水仙花数"
   ]
  },
  {
   "cell_type": "code",
   "execution_count": 26,
   "metadata": {},
   "outputs": [
    {
     "name": "stdout",
     "output_type": "stream",
     "text": [
      ">>2014\n",
      "2014不是闰年\n"
     ]
    }
   ],
   "source": [
    "year = eval(input(\">>\"))\n",
    "if ((year%4 == 0) and (year%100 != 0)) or (year % 400 == 0):\n",
    "    print(str(year)+\"是闰年\")\n",
    "else:\n",
    "    print(str(year)+\"不是闰年\")"
   ]
  },
  {
   "cell_type": "code",
   "execution_count": 28,
   "metadata": {},
   "outputs": [
    {
     "name": "stdout",
     "output_type": "stream",
     "text": [
      ">>2\n",
      ">>5\n",
      ">>3\n",
      "不是一个水仙花数\n"
     ]
    }
   ],
   "source": [
    "num1 = eval(input('>>'))\n",
    "num2 = eval(input('>>'))\n",
    "num3 = eval(input('>>'))\n",
    "if num1**3+num2**3+num3**3 == (num1*100+num2*10+num3):\n",
    "    print(\"是一个水仙花数\")\n",
    "else:\n",
    "    print(\"不是一个水仙花数\")"
   ]
  },
  {
   "cell_type": "markdown",
   "metadata": {},
   "source": [
    "## 实例研究：彩票\n",
    "![](../Photo/41.png)"
   ]
  },
  {
   "cell_type": "code",
   "execution_count": null,
   "metadata": {},
   "outputs": [],
   "source": [
    "import random\n",
    "random_ = random.randint(11,99)\n",
    "num = eval(input(\">>\"))"
   ]
  },
  {
   "cell_type": "markdown",
   "metadata": {},
   "source": [
    "# Homework\n",
    "- 1\n",
    "![](../Photo/42.png)"
   ]
  },
  {
   "cell_type": "code",
   "execution_count": 35,
   "metadata": {},
   "outputs": [
    {
     "name": "stdout",
     "output_type": "stream",
     "text": [
      ">>1,3,1\n",
      "-0.3819660112501051 -2.618033988749895\n"
     ]
    }
   ],
   "source": [
    "import math\n",
    "a,b,c = eval(input(\">>\"))\n",
    "if (b*b-4*a*c)>0:\n",
    "    r1 = (-b + math.sqrt(b*b-4*a*c))/2*a\n",
    "    r2 = (-b - math.sqrt(b*b-4*a*c))/2*a\n",
    "    print(str(r1),str(r2))\n",
    "elif (b*b-4*a*c) ==0:\n",
    "    print(str(r1))\n",
    "else:\n",
    "    print(\"The equation has no real roots\")"
   ]
  },
  {
   "cell_type": "markdown",
   "metadata": {},
   "source": [
    "- 2\n",
    "![](../Photo/43.png)"
   ]
  },
  {
   "cell_type": "code",
   "execution_count": 2,
   "metadata": {},
   "outputs": [
    {
     "name": "stdout",
     "output_type": "stream",
     "text": [
      "73 90\n",
      "请输入数字的和163\n",
      "恭喜你\n"
     ]
    }
   ],
   "source": [
    "import random\n",
    "number1 = random.randint(1,99)\n",
    "number2 = random.randint(1,99)\n",
    "print(number1,number2)\n",
    "num = eval(input(\"请输入数字的和\"))\n",
    "sum = number1 + number2\n",
    "if num == sum:\n",
    "    print(\"恭喜你\")\n",
    "else:\n",
    "    print(\"你回答错了，正确答案是：\" + str(sum))"
   ]
  },
  {
   "cell_type": "markdown",
   "metadata": {},
   "source": [
    "- 3\n",
    "![](../Photo/44.png)"
   ]
  },
  {
   "cell_type": "code",
   "execution_count": 1,
   "metadata": {},
   "outputs": [
    {
     "name": "stdout",
     "output_type": "stream",
     "text": [
      ">>1\n",
      ">>3\n"
     ]
    },
    {
     "ename": "NameError",
     "evalue": "name 'fu' is not defined",
     "output_type": "error",
     "traceback": [
      "\u001b[1;31m---------------------------------------------------------------------------\u001b[0m",
      "\u001b[1;31mNameError\u001b[0m                                 Traceback (most recent call last)",
      "\u001b[1;32m<ipython-input-1-5de106aab05a>\u001b[0m in \u001b[0;36m<module>\u001b[1;34m()\u001b[0m\n\u001b[0;32m     30\u001b[0m \u001b[1;32melif\u001b[0m \u001b[0mfuther\u001b[0m \u001b[1;33m==\u001b[0m \u001b[1;36m6\u001b[0m\u001b[1;33m:\u001b[0m\u001b[1;33m\u001b[0m\u001b[0m\n\u001b[0;32m     31\u001b[0m     \u001b[0mfu\u001b[0m \u001b[1;33m=\u001b[0m \u001b[1;33m(\u001b[0m\u001b[1;34m\"Saturday\"\u001b[0m\u001b[1;33m)\u001b[0m\u001b[1;33m\u001b[0m\u001b[0m\n\u001b[1;32m---> 32\u001b[1;33m \u001b[0mprint\u001b[0m\u001b[1;33m(\u001b[0m\u001b[1;34m\"Today is \"\u001b[0m \u001b[1;33m+\u001b[0m\u001b[0mstr\u001b[0m\u001b[1;33m(\u001b[0m\u001b[0ma\u001b[0m\u001b[1;33m)\u001b[0m\u001b[1;33m+\u001b[0m \u001b[1;34m\"and the futher day is \"\u001b[0m \u001b[1;33m+\u001b[0m \u001b[0mstr\u001b[0m\u001b[1;33m(\u001b[0m\u001b[0mfu\u001b[0m\u001b[1;33m)\u001b[0m\u001b[1;33m)\u001b[0m\u001b[1;33m\u001b[0m\u001b[0m\n\u001b[0m",
      "\u001b[1;31mNameError\u001b[0m: name 'fu' is not defined"
     ]
    }
   ],
   "source": [
    "day =eval(input(\">>\"))\n",
    "date = eval(input(\">>\"))\n",
    "futher = (day+date)%7\n",
    "if day == 0:\n",
    "    a= (\"Sunday\")\n",
    "elif day == 1:\n",
    "    a= (\"Monday\") \n",
    "elif day == 2:\n",
    "    a = (\"Thursday\")\n",
    "elif day == 3:\n",
    "    a = (\"Wedensday\")\n",
    "elif day == 4:\n",
    "    a = (\"Tuesday\")\n",
    "elif day == 5:\n",
    "    a = (\"Friday\")\n",
    "elif day == 6:\n",
    "    a = (\"Saturday\")\n",
    "elif futher == 0:\n",
    "    fu = (\"Sunday\")\n",
    "elif futher == 1:\n",
    "    fu = (\"Monday\")\n",
    "elif futher == 2:\n",
    "    fu = (\"Thursday\")\n",
    "elif futher == 3:\n",
    "    fu = (\"Wednesday\")\n",
    "elif futher == 4:\n",
    "    fu = (\"Tuesday\")\n",
    "elif futher == 5:\n",
    "    fu = (\"Friday\")\n",
    "elif futher == 6:\n",
    "    fu = (\"Saturday\")\n",
    "print(\"Today is \" +str(a)+ \"and the futher day is \" + str(fu))"
   ]
  },
  {
   "cell_type": "markdown",
   "metadata": {},
   "source": [
    "- 4\n",
    "![](../Photo/45.png)"
   ]
  },
  {
   "cell_type": "code",
   "execution_count": 6,
   "metadata": {},
   "outputs": [
    {
     "name": "stdout",
     "output_type": "stream",
     "text": [
      ">>3\n",
      ">>2\n",
      ">>1\n",
      "1 2 3\n"
     ]
    }
   ],
   "source": [
    "num1 = eval(input(\">>\"))\n",
    "num2 = eval(input(\">>\"))\n",
    "num3 = eval(input(\">>\"))\n",
    "if num1<=num2<=num3:\n",
    "    print(str(num1),str(num2),str(num3))\n",
    "elif num3<=num2<=num1:\n",
    "    print(str(num3),str(num2),str(num1))\n",
    "elif num2<=num3<=num1:\n",
    "    print(str(num2),str(num3),str(num1))\n",
    "elif num1<=num3<=num2:\n",
    "    print(str(num1),str(num3),str(num2))\n",
    "elif num2<=num1<=num3:\n",
    "    print(str(num2),str(num1),str(num3))\n",
    "elif num3<=num1<=num2:\n",
    "    print(str(num3),str(num1),str(num2))\n"
   ]
  },
  {
   "cell_type": "markdown",
   "metadata": {},
   "source": [
    "- 5\n",
    "![](../Photo/46.png)"
   ]
  },
  {
   "cell_type": "code",
   "execution_count": 8,
   "metadata": {},
   "outputs": [
    {
     "name": "stdout",
     "output_type": "stream",
     "text": [
      ">>50,24.59\n",
      ">>25,11.99\n",
      "Package 2 has the better price\n"
     ]
    }
   ],
   "source": [
    "weight1,price1 = eval(input(\">>\"))\n",
    "weight2,price2 = eval(input(\">>\"))\n",
    "if (price1/weight1) > (price2/weight2):\n",
    "    print(\"Package 2 has the better price\")\n",
    "elif (price1/weight1) < (price2/weight2):\n",
    "    print(\"Package 1 has the better price\")\n",
    "else:\n",
    "    print(\"Package 1  eq  Package 2\")"
   ]
  },
  {
   "cell_type": "markdown",
   "metadata": {},
   "source": [
    "- 6\n",
    "![](../Photo/47.png)"
   ]
  },
  {
   "cell_type": "code",
   "execution_count": 10,
   "metadata": {},
   "outputs": [
    {
     "name": "stdout",
     "output_type": "stream",
     "text": [
      ">>3\n",
      ">>2005\n"
     ]
    },
    {
     "ename": "TypeError",
     "evalue": "'tuple' object is not callable",
     "output_type": "error",
     "traceback": [
      "\u001b[1;31m---------------------------------------------------------------------------\u001b[0m",
      "\u001b[1;31mTypeError\u001b[0m                                 Traceback (most recent call last)",
      "\u001b[1;32m<ipython-input-10-8c11d25dd1f9>\u001b[0m in \u001b[0;36m<module>\u001b[1;34m()\u001b[0m\n\u001b[0;32m      3\u001b[0m \u001b[0mA\u001b[0m \u001b[1;33m=\u001b[0m \u001b[1;33m(\u001b[0m\u001b[1;36m1\u001b[0m\u001b[1;33m,\u001b[0m\u001b[1;36m3\u001b[0m\u001b[1;33m,\u001b[0m\u001b[1;36m5\u001b[0m\u001b[1;33m,\u001b[0m\u001b[1;36m7\u001b[0m\u001b[1;33m,\u001b[0m\u001b[1;36m8\u001b[0m\u001b[1;33m,\u001b[0m\u001b[1;36m10\u001b[0m\u001b[1;33m,\u001b[0m\u001b[1;36m12\u001b[0m\u001b[1;33m)\u001b[0m\u001b[1;33m\u001b[0m\u001b[0m\n\u001b[0;32m      4\u001b[0m \u001b[0mB\u001b[0m \u001b[1;33m=\u001b[0m \u001b[1;33m(\u001b[0m\u001b[1;36m4\u001b[0m\u001b[1;33m,\u001b[0m\u001b[1;36m6\u001b[0m\u001b[1;33m,\u001b[0m\u001b[1;36m9\u001b[0m\u001b[1;33m,\u001b[0m\u001b[1;36m11\u001b[0m\u001b[1;33m)\u001b[0m\u001b[1;33m\u001b[0m\u001b[0m\n\u001b[1;32m----> 5\u001b[1;33m \u001b[1;32mif\u001b[0m \u001b[0mmonth\u001b[0m \u001b[1;33m==\u001b[0m \u001b[0mA\u001b[0m\u001b[1;33m(\u001b[0m\u001b[1;33m)\u001b[0m\u001b[1;33m:\u001b[0m\u001b[1;33m\u001b[0m\u001b[0m\n\u001b[0m\u001b[0;32m      6\u001b[0m     \u001b[0mprint\u001b[0m\u001b[1;33m(\u001b[0m\u001b[0mstr\u001b[0m\u001b[1;33m(\u001b[0m\u001b[0mmonth\u001b[0m\u001b[1;33m)\u001b[0m \u001b[1;33m+\u001b[0m \u001b[1;34m\"有31天\"\u001b[0m\u001b[1;33m)\u001b[0m\u001b[1;33m\u001b[0m\u001b[0m\n\u001b[0;32m      7\u001b[0m \u001b[1;32melif\u001b[0m \u001b[0mmonth\u001b[0m \u001b[1;33m==\u001b[0m \u001b[0mB\u001b[0m\u001b[1;33m(\u001b[0m\u001b[1;33m)\u001b[0m\u001b[1;33m:\u001b[0m\u001b[1;33m\u001b[0m\u001b[0m\n",
      "\u001b[1;31mTypeError\u001b[0m: 'tuple' object is not callable"
     ]
    }
   ],
   "source": [
    "month = eval(input(\">>\"))\n",
    "year = eval(input(\">>\"))\n",
    "A = (1,3,5,7,8,10,12)\n",
    "B = (4,6,9,11)\n",
    "if month == A:\n",
    "    print(str(month) + \"有31天\")\n",
    "elif month == B:\n",
    "    print(str(month) + \"有30天\")\n",
    "elif month == 2 and (((year%4 == 0) and (year%100 != 0)) or (year % 400 == 0)):\n",
    "    print(str(month) + \"月有29天\" )\n",
    "else:\n",
    "    print(str(month) + \"月有28天\")"
   ]
  },
  {
   "cell_type": "markdown",
   "metadata": {},
   "source": [
    "- 7\n",
    "![](../Photo/48.png)"
   ]
  },
  {
   "cell_type": "code",
   "execution_count": 9,
   "metadata": {},
   "outputs": [
    {
     "name": "stdout",
     "output_type": "stream",
     "text": [
      "请输入一个数字‘0’或‘1’1\n",
      "True\n"
     ]
    }
   ],
   "source": [
    "num = eval(input(\"请输入一个数字‘0’或‘1’\"))\n",
    "if num == 1:\n",
    "    print(\"True\")\n",
    "elif num == 0:\n",
    "    print(\"False\")"
   ]
  },
  {
   "cell_type": "markdown",
   "metadata": {},
   "source": [
    "- 8\n",
    "![](../Photo/49.png)"
   ]
  },
  {
   "cell_type": "code",
   "execution_count": 13,
   "metadata": {},
   "outputs": [
    {
     "name": "stdout",
     "output_type": "stream",
     "text": [
      "0\n",
      ">>1\n",
      "You are paper.The computer is loser.\n"
     ]
    }
   ],
   "source": [
    "import random\n",
    "random_ = random.randint(0,2)\n",
    "print(random_)\n",
    "num = eval(input(\">>\"))\n",
    "if num < random_:\n",
    "    print(\"You are loser.The computer is paper.\")\n",
    "elif num > random_:\n",
    "    print(\"You are paper.The computer is loser.\")\n",
    "elif num == random_:\n",
    "    print(\"The computer is paper.You are paper too. It is a draw.\")"
   ]
  },
  {
   "cell_type": "markdown",
   "metadata": {},
   "source": [
    "- 9\n",
    "![](../Photo/50.png)"
   ]
  },
  {
   "cell_type": "markdown",
   "metadata": {},
   "source": [
    "- 10\n",
    "![](../Photo/51.png)"
   ]
  },
  {
   "cell_type": "markdown",
   "metadata": {},
   "source": [
    "- 11\n",
    "![](../Photo/52.png)"
   ]
  },
  {
   "cell_type": "code",
   "execution_count": 20,
   "metadata": {},
   "outputs": [
    {
     "name": "stdout",
     "output_type": "stream",
     "text": [
      "输入一个三位整数123\n",
      "123is not a palindrome\n"
     ]
    }
   ],
   "source": [
    "num = eval(input(\"输入一个三位整数\"))\n",
    "if (num % 10) == (num // 100):\n",
    "    print(str(num) + \"is a palindrome\")\n",
    "else:\n",
    "    print(str(num) + \"is not a palindrome\")"
   ]
  },
  {
   "cell_type": "markdown",
   "metadata": {},
   "source": [
    "- 12\n",
    "![](../Photo/53.png)"
   ]
  },
  {
   "cell_type": "code",
   "execution_count": 17,
   "metadata": {},
   "outputs": [
    {
     "name": "stdout",
     "output_type": "stream",
     "text": [
      "请输入三角形的三条边1,1,1\n",
      "The perimeter is 3\n"
     ]
    }
   ],
   "source": [
    "a,b,c = eval(input(\"请输入三角形的三条边\"))\n",
    "if (a+b>c) and (a+c>b) and (b+c>a):\n",
    "    length = a + b + c\n",
    "    print(\"The perimeter is \" + str(length))\n",
    "else:\n",
    "    print(\"你输入的边长不合法\")"
   ]
  }
 ],
 "metadata": {
  "kernelspec": {
   "display_name": "Python 3",
   "language": "python",
   "name": "python3"
  },
  "language_info": {
   "codemirror_mode": {
    "name": "ipython",
    "version": 3
   },
   "file_extension": ".py",
   "mimetype": "text/x-python",
   "name": "python",
   "nbconvert_exporter": "python",
   "pygments_lexer": "ipython3",
   "version": "3.6.5"
  }
 },
 "nbformat": 4,
 "nbformat_minor": 2
}
