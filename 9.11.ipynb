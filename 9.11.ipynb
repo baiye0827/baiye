{
 "cells": [
  {
   "cell_type": "markdown",
   "metadata": {},
   "source": [
    "# 数学函数、字符串和对象\n",
    "## 本章介绍Python函数来执行常见的数学运算\n",
    "- 函数是完成一个特殊任务的一组语句，可以理解为一个函数相当于一个小功能，但是在开发中，需要注意一个函数的长度最好不要超过一屏\n",
    "- Python中的内置函数是不需要Import导入的\n",
    "<img src=\"../Photo/15.png\"></img>"
   ]
  },
  {
   "cell_type": "markdown",
   "metadata": {},
   "source": [
    "## 尝试练习Python内置函数"
   ]
  },
  {
   "cell_type": "markdown",
   "metadata": {},
   "source": [
    "## Python中的math模块提供了许多数学函数\n",
    "<img src=\"../Photo/16.png\"></img>\n",
    "<img src=\"../Photo/17.png\"></img>\n"
   ]
  },
  {
   "cell_type": "code",
   "execution_count": 4,
   "metadata": {},
   "outputs": [
    {
     "name": "stdout",
     "output_type": "stream",
     "text": [
      "请输入三个数字以逗号分隔1,3,5\n",
      ">>max\n",
      "ok\n"
     ]
    }
   ],
   "source": [
    "num,num1,num2 = eval(input(\"请输入三个数字以逗号分隔\"))\n",
    "choose_method = input('>>')\n",
    "if choose_method=='max':\n",
    "    max_=max(num,num1,num2)\n",
    "    print(max_)\n",
    "elif choose_method=='min':\n",
    "    min_=min(num,num1,num2)\n",
    "    print(min_)\n",
    "elif choose_method == 'pow2_sum'\n",
    "    pow_=pow(num,2)+pow(num1,2)+pow(num2,2)\n",
    "    print(pow_)\n"
   ]
  },
  {
   "cell_type": "code",
   "execution_count": null,
   "metadata": {},
   "outputs": [],
   "source": [
    "import matplotlib.pyplot as plt\n",
    "list_ = []\n",
    "for z in range(-50,50):\n",
    "    res=1./ (1. + math.exp(-z))\n",
    "    list_.append(res)\n",
    "plt.plot(list_)\n",
    "plt.show()"
   ]
  },
  {
   "cell_type": "code",
   "execution_count": 37,
   "metadata": {},
   "outputs": [
    {
     "data": {
      "text/plain": [
       "0"
      ]
     },
     "execution_count": 37,
     "metadata": {},
     "output_type": "execute_result"
    }
   ],
   "source": [
    "import random,math\n",
    "sj=random.randint(-50,50)\n",
    "res=1./(1. + math.exp(sj))\n",
    "round(res)"
   ]
  },
  {
   "cell_type": "markdown",
   "metadata": {},
   "source": [
    "## 两个数学常量PI和e，可以通过使用math.pi 和math.e调用"
   ]
  },
  {
   "cell_type": "markdown",
   "metadata": {},
   "source": [
    "## EP:\n",
    "- 通过math库，写一个程序，使得用户输入三个顶点(x,y)返回三个角度\n",
    "- 注意：Python计算角度为弧度制，需要将其转换为角度\n",
    "<img src=\"../Photo/18.png\">"
   ]
  },
  {
   "cell_type": "code",
   "execution_count": 47,
   "metadata": {},
   "outputs": [
    {
     "name": "stdout",
     "output_type": "stream",
     "text": [
      "请输入三个顶点坐标0,0,0,1,1,0\n",
      "90.00000000000001 44.999999999999986 44.999999999999986\n"
     ]
    }
   ],
   "source": [
    "import math\n",
    "x1,y1,x2,y2,x3,y3 = eval(input(\"请输入三个顶点坐标\"))\n",
    "a=math.sqrt((x2-x3)**2+(y2-y3)**2)\n",
    "b=math.sqrt((x1-x3)**2+(y1-y3)**2)\n",
    "c=math.sqrt((x2-x1)**2+(y1-y2)**2)\n",
    "A=math.acos((a*a - b*b - c*c)/(-2 * b * c))\n",
    "B=math.acos((b*b - a*a - c*c)/(-2 * a * c))\n",
    "C=math.acos((c*c - b*b - a*a)/(-2 * b * a))\n",
    "print(math.degrees(A),math.degrees(B),math.degrees(C))"
   ]
  },
  {
   "cell_type": "markdown",
   "metadata": {},
   "source": [
    "## 字符串和字符\n",
    "- 在Python中，字符串必须是在单引号或者双引号内，在多段换行的字符串中可以使用“”“\n",
    "- 在使用”“”时，给予其变量则变为字符串，否则当多行注释使用"
   ]
  },
  {
   "cell_type": "markdown",
   "metadata": {},
   "source": [
    "## ASCII码与Unicode码\n",
    "- <img src=\"../Photo/19.png\"></img>\n",
    "- <img src=\"../Photo/20.png\"></img>\n",
    "- <img src=\"../Photo/21.png\"></img>"
   ]
  },
  {
   "cell_type": "code",
   "execution_count": 48,
   "metadata": {},
   "outputs": [
    {
     "data": {
      "text/plain": [
       "32463"
      ]
     },
     "execution_count": 48,
     "metadata": {},
     "output_type": "execute_result"
    }
   ],
   "source": [
    "ord('经')          #接收或返回10进制"
   ]
  },
  {
   "cell_type": "code",
   "execution_count": 50,
   "metadata": {},
   "outputs": [
    {
     "data": {
      "text/plain": [
       "'经'"
      ]
     },
     "execution_count": 50,
     "metadata": {},
     "output_type": "execute_result"
    }
   ],
   "source": [
    "chr(32463)"
   ]
  },
  {
   "cell_type": "markdown",
   "metadata": {},
   "source": [
    "## 函数ord、chr\n",
    "- ord 返回ASCII码值\n",
    "- chr 返回字符"
   ]
  },
  {
   "cell_type": "markdown",
   "metadata": {},
   "source": [
    "## EP:\n",
    "- 利用ord与chr进行简单邮箱加密"
   ]
  },
  {
   "cell_type": "code",
   "execution_count": 59,
   "metadata": {},
   "outputs": [
    {
     "name": "stdout",
     "output_type": "stream",
     "text": [
      "kkkJ;@=8mywkkkJ;@=8myw\n"
     ]
    }
   ],
   "source": [
    "email=\"aaa@163.com\"\n",
    "result=''\n",
    "for i in email:\n",
    "    print(chr(ord(i) + 10),end='')\n",
    "    \n",
    "for j in email:\n",
    "    result = result + chr(ord(j)+10)\n",
    "print(result)"
   ]
  },
  {
   "cell_type": "code",
   "execution_count": 60,
   "metadata": {},
   "outputs": [
    {
     "name": "stdout",
     "output_type": "stream",
     "text": [
      "MD5加密前为：this is a md5 test \n",
      "MD5加密后为：49200529253ebe8126e9dc892d5e4945\n"
     ]
    }
   ],
   "source": [
    "import hashlib\n",
    "#待加密信息\n",
    "str_ =  'this is a md5 test '\n",
    "#创建md5对象\n",
    "h1 = hashlib.md5()\n",
    "#Tips\n",
    "#此处必须声明encode\n",
    "#若写法为h1.update(str)  报错为： Unicode-objects must be \n",
    "h1.update(str_.encode(encoding='utf-8'))\n",
    "print('MD5加密前为：'+ str_)\n",
    "print('MD5加密后为：'+ h1.hexdigest())"
   ]
  },
  {
   "cell_type": "code",
   "execution_count": 62,
   "metadata": {},
   "outputs": [
    {
     "name": "stdout",
     "output_type": "stream",
     "text": [
      ">>this is a md5 test\n",
      "success\n"
     ]
    }
   ],
   "source": [
    "import hashlib\n",
    "dataset= '49200529253ebe8126e9dc892d5e4945'\n",
    "password = input('>>') \n",
    "h1 = hashlib.md5()\n",
    "h1.update(str_.encode(encoding='utf-8'))\n",
    "if dataset==h1.hexdigest():\n",
    "    print('success')\n",
    "else:\n",
    "    print('faild')"
   ]
  },
  {
   "cell_type": "markdown",
   "metadata": {},
   "source": [
    "## 转义序列 \\\n",
    "- a = \"He said,\"Johon's program is easy to read\"\n",
    "- 转掉它原来的意思\n",
    "- 一般情况下只有当语句与默认方法相撞的时候，就需要转义"
   ]
  },
  {
   "cell_type": "markdown",
   "metadata": {},
   "source": [
    "## 高级print\n",
    "- 参数 end： 以什么方式结束打印\n",
    "- 默认换行打印"
   ]
  },
  {
   "cell_type": "code",
   "execution_count": 63,
   "metadata": {},
   "outputs": [
    {
     "name": "stdout",
     "output_type": "stream",
     "text": [
      "ab!"
     ]
    }
   ],
   "source": [
    "print('a','b',sep='',end='!')"
   ]
  },
  {
   "cell_type": "markdown",
   "metadata": {},
   "source": [
    "## 函数str\n",
    "- 将类型强制转换成字符串类型\n",
    "- 其他一些以后会学到(list,set,tuple...)"
   ]
  },
  {
   "cell_type": "markdown",
   "metadata": {},
   "source": [
    "## 字符串连接操作\n",
    "- 直接使用 “+” \n",
    "- join() 函数 "
   ]
  },
  {
   "cell_type": "markdown",
   "metadata": {},
   "source": [
    "## EP：\n",
    "- 将 “Welcome” “to” \"Python\" 拼接\n",
    "- 将int型 100 与 “joker is a bad man” 拼接\n",
    "- 从控制台读取字符串\n",
    "> 输入一个名字返回夸奖此人"
   ]
  },
  {
   "cell_type": "code",
   "execution_count": 82,
   "metadata": {},
   "outputs": [
    {
     "name": "stdout",
     "output_type": "stream",
     "text": [
      "Wall time: 0 ns\n",
      "Wall time: 0 ns\n"
     ]
    },
    {
     "data": {
      "text/plain": [
       "'100joker is a bad man'"
      ]
     },
     "execution_count": 82,
     "metadata": {},
     "output_type": "execute_result"
    }
   ],
   "source": [
    "%time \"welcome\".join(\"Python\")\n",
    "%time '100' + \"joker is a bad man\""
   ]
  },
  {
   "cell_type": "code",
   "execution_count": 85,
   "metadata": {},
   "outputs": [
    {
     "name": "stdout",
     "output_type": "stream",
     "text": [
      ">>yh\n",
      "yhnihao\n"
     ]
    }
   ],
   "source": [
    "name = input(\">>\")\n",
    "print(name + \"nihao\")"
   ]
  },
  {
   "cell_type": "markdown",
   "metadata": {},
   "source": [
    "## 实例研究：最小数量硬币\n",
    "- 开发一个程序，让用户输入总金额，这是一个用美元和美分表示的浮点值，返回一个由美元、两角五分的硬币、一角的硬币、五分硬币、以及美分个数\n",
    "<img src=\"../Photo/22.png\"></img>"
   ]
  },
  {
   "cell_type": "markdown",
   "metadata": {},
   "source": [
    "- Python弱项，对于浮点型的处理并不是很好，但是处理数据的时候使用的是Numpy类型\n",
    "<img src=\"../Photo/23.png\"></img>"
   ]
  },
  {
   "cell_type": "markdown",
   "metadata": {},
   "source": [
    "num = 1\n",
    "while num !=0 :\n",
    "num "
   ]
  },
  {
   "cell_type": "markdown",
   "metadata": {},
   "source": [
    "## id与type\n",
    "- id 查看内存地址，在判断语句中将会使用\n",
    "- type 查看元素类型"
   ]
  },
  {
   "cell_type": "code",
   "execution_count": 87,
   "metadata": {},
   "outputs": [
    {
     "data": {
      "text/plain": [
       "1950706784"
      ]
     },
     "execution_count": 87,
     "metadata": {},
     "output_type": "execute_result"
    }
   ],
   "source": [
    "a = 1\n",
    "id(2)"
   ]
  },
  {
   "cell_type": "markdown",
   "metadata": {},
   "source": [
    "## 其他格式化语句见书"
   ]
  },
  {
   "cell_type": "code",
   "execution_count": null,
   "metadata": {},
   "outputs": [],
   "source": [
    "print('aaa{}'.format(100))\n",
    "print('aaa{}'.%d)"
   ]
  },
  {
   "cell_type": "markdown",
   "metadata": {},
   "source": [
    "# Homework\n",
    "- 1\n",
    "<img src=\"../Photo/24.png\"><img>\n",
    "<img src=\"../Photo/25.png\"><img>"
   ]
  },
  {
   "cell_type": "code",
   "execution_count": 89,
   "metadata": {},
   "outputs": [
    {
     "name": "stdout",
     "output_type": "stream",
     "text": [
      "请输入五边形顶点到中小的距离5.5\n",
      "71.923649044821\n"
     ]
    }
   ],
   "source": [
    "import math\n",
    "r = eval(input(\"请输入五边形顶点到中小的距离\"))\n",
    "s=2*r*math.sin(math.pi/5)\n",
    "area = 5*s*s/(4*math.tan(math.pi/5))\n",
    "print(area)"
   ]
  },
  {
   "cell_type": "markdown",
   "metadata": {},
   "source": [
    "- 2\n",
    "<img src=\"../Photo/26.png\"><img>"
   ]
  },
  {
   "cell_type": "code",
   "execution_count": 99,
   "metadata": {},
   "outputs": [
    {
     "name": "stdout",
     "output_type": "stream",
     "text": [
      "请输入两点的经度和纬度39.55,-116.25,41.5,87.37\n",
      "10691.79183231593\n"
     ]
    }
   ],
   "source": [
    "import math\n",
    "x1,y1,x2,y2=eval(input(\"请输入两点的经度和纬度\"))\n",
    "radius=6371.01\n",
    "d=radius*math.acos(math.sin(math.radians(x1))*math.sin(math.radians(x2))+math.cos(math.radians(x1))*math.cos(math.radians(x2))*math.cos(math.radians(y1)-math.radians(y2)))\n",
    "print(d)"
   ]
  },
  {
   "cell_type": "markdown",
   "metadata": {},
   "source": [
    "- 3\n",
    "<img src=\"../Photo/27.png\"><img>"
   ]
  },
  {
   "cell_type": "code",
   "execution_count": 103,
   "metadata": {},
   "outputs": [
    {
     "name": "stdout",
     "output_type": "stream",
     "text": [
      "请输入五角形的边长5.5\n",
      "52.044441367816255\n"
     ]
    }
   ],
   "source": [
    "import math\n",
    "s = eval(input(\"请输入五角形的边长\"))\n",
    "area = (5*(s**2))/(4*math.tan(math.pi/5))\n",
    "print(area)"
   ]
  },
  {
   "cell_type": "markdown",
   "metadata": {},
   "source": [
    "- 4\n",
    "<img src=\"../Photo/28.png\"><img>"
   ]
  },
  {
   "cell_type": "code",
   "execution_count": 104,
   "metadata": {},
   "outputs": [
    {
     "name": "stdout",
     "output_type": "stream",
     "text": [
      "请输入多边形的边长数5\n",
      "请输入多边形的边长6.5\n",
      "72.69017017488386\n"
     ]
    }
   ],
   "source": [
    "import math\n",
    "n = eval(input(\"请输入多边形的边长数\"))\n",
    "s = eval(input(\"请输入多边形的边长\"))\n",
    "area = n*s**2/(4*math.tan(math.pi/n))\n",
    "print(area)"
   ]
  },
  {
   "cell_type": "markdown",
   "metadata": {},
   "source": [
    "- 5\n",
    "<img src=\"../Photo/29.png\"><img>\n",
    "<img src=\"../Photo/30.png\"><img>"
   ]
  },
  {
   "cell_type": "code",
   "execution_count": 105,
   "metadata": {},
   "outputs": [
    {
     "name": "stdout",
     "output_type": "stream",
     "text": [
      "请输入一个0~127之间的ASCII码值69\n"
     ]
    },
    {
     "data": {
      "text/plain": [
       "'E'"
      ]
     },
     "execution_count": 105,
     "metadata": {},
     "output_type": "execute_result"
    }
   ],
   "source": [
    "num = eval(input(\"请输入一个0~127之间的ASCII码值\"))\n",
    "chr(num)"
   ]
  },
  {
   "cell_type": "markdown",
   "metadata": {},
   "source": [
    "- 6\n",
    "<img src=\"../Photo/31.png\"><img>"
   ]
  },
  {
   "cell_type": "code",
   "execution_count": 110,
   "metadata": {},
   "outputs": [
    {
     "name": "stdout",
     "output_type": "stream",
     "text": [
      "Please enter employee's name:smitch\n",
      "Please enter number of hours worked in a week:10\n",
      "Please enter hourly pay rate:9.75\n",
      "Please enter federal tax withholding rate:0.20\n",
      "Please enter state tax withholding rate:0.09\n",
      "名字：smitch 每周工作时长：10 每小时金额：9.75 总额:97.5 联邦扣税：19.5 州扣税：8.775 总扣税：28.275 剩余：69.225\n"
     ]
    }
   ],
   "source": [
    "name = input(\"Please enter employee's name:\")\n",
    "time = eval(input(\"Please enter number of hours worked in a week:\"))\n",
    "money = eval(input(\"Please enter hourly pay rate:\"))\n",
    "federalrate = eval(input(\"Please enter federal tax withholding rate:\"))\n",
    "rate = eval(input(\"Please enter state tax withholding rate:\"))\n",
    "sum = money*time\n",
    "federal = sum*federalrate\n",
    "state = sum*rate\n",
    "total = federal+state\n",
    "net = sum-total\n",
    "print(\"名字：\"+name,\"每周工作时长：\"+str(time),\"每小时金额：\"+str(money),\"总额:\"+str(sum),\"联邦扣税：\"+str(federal),\"州扣税：\"+str(state),\"总扣税：\"+str(total),\"剩余：\"+str(net))"
   ]
  },
  {
   "cell_type": "markdown",
   "metadata": {},
   "source": [
    "- 7\n",
    "<img src=\"../Photo/32.png\"><img>"
   ]
  },
  {
   "cell_type": "code",
   "execution_count": 118,
   "metadata": {},
   "outputs": [
    {
     "name": "stdout",
     "output_type": "stream",
     "text": [
      "请输入一个四位整数3125\n",
      "5213\n"
     ]
    }
   ],
   "source": [
    "num = eval(input(\"请输入一个四位整数\"))\n",
    "num1 = num%100%10\n",
    "num2 = num//10%10\n",
    "num3 = (num//100)%10\n",
    "num4 = num//1000\n",
    "print(str(num1) + str(num2) + str(num3) + str(num4))"
   ]
  },
  {
   "cell_type": "markdown",
   "metadata": {},
   "source": [
    "- 8 进阶：\n",
    "> 加密一串文本，并将解密后的文件写入本地保存"
   ]
  },
  {
   "cell_type": "code",
   "execution_count": 125,
   "metadata": {},
   "outputs": [
    {
     "name": "stdout",
     "output_type": "stream",
     "text": [
      ">>djka;fa\n",
      "MD5加密后为：0e563fa6142246d8c3b8b55d26deebaf\n"
     ]
    }
   ],
   "source": [
    "import hashlib\n",
    "num = input(\">>\")\n",
    "h1 = hashlib.md5()\n",
    "h1.update(num.encode(encoding='utf-8'))\n",
    "print('MD5加密后为：'+ h1.hexdigest())\n"
   ]
  }
 ],
 "metadata": {
  "kernelspec": {
   "display_name": "Python 3",
   "language": "python",
   "name": "python3"
  },
  "language_info": {
   "codemirror_mode": {
    "name": "ipython",
    "version": 3
   },
   "file_extension": ".py",
   "mimetype": "text/x-python",
   "name": "python",
   "nbconvert_exporter": "python",
   "pygments_lexer": "ipython3",
   "version": "3.6.5"
  }
 },
 "nbformat": 4,
 "nbformat_minor": 2
}
